{
  "nbformat": 4,
  "nbformat_minor": 0,
  "metadata": {
    "colab": {
      "provenance": [],
      "include_colab_link": true
    },
    "kernelspec": {
      "name": "python3",
      "display_name": "Python 3"
    },
    "language_info": {
      "name": "python"
    },
    "gpuClass": "standard"
  },
  "cells": [
    {
      "cell_type": "markdown",
      "metadata": {
        "id": "view-in-github",
        "colab_type": "text"
      },
      "source": [
        "<a href=\"https://colab.research.google.com/github/aakash018/image-colorizer/blob/main/server_for_image_colorization.ipynb\" target=\"_parent\"><img src=\"https://colab.research.google.com/assets/colab-badge.svg\" alt=\"Open In Colab\"/></a>"
      ]
    },
    {
      "cell_type": "code",
      "source": [
        "!mkdir -p ~/.kaggle\n",
        "!cp kaggle.json ~/.kaggle"
      ],
      "metadata": {
        "id": "2kTv3TguoZKi"
      },
      "execution_count": null,
      "outputs": []
    },
    {
      "cell_type": "code",
      "source": [
        "from google.colab import drive\n",
        "drive.mount('/content/drive')"
      ],
      "metadata": {
        "colab": {
          "base_uri": "https://localhost:8080/"
        },
        "id": "18p1NHnTrdca",
        "outputId": "d8a7dc18-a1fe-464c-eb06-76d9f31e19c8"
      },
      "execution_count": 5,
      "outputs": [
        {
          "output_type": "stream",
          "name": "stdout",
          "text": [
            "Mounted at /content/drive\n"
          ]
        }
      ]
    },
    {
      "cell_type": "code",
      "source": [
        "!kaggle datasets download -d aksha05/flower-image-dataset"
      ],
      "metadata": {
        "colab": {
          "base_uri": "https://localhost:8080/"
        },
        "id": "6dowpWgZp8fh",
        "outputId": "e6f7682b-884d-44f5-85c0-b5bed48aaf5b"
      },
      "execution_count": null,
      "outputs": [
        {
          "output_type": "stream",
          "name": "stdout",
          "text": [
            "Warning: Your Kaggle API key is readable by other users on this system! To fix this, you can run 'chmod 600 /root/.kaggle/kaggle.json'\n",
            "Downloading flower-image-dataset.zip to /content\n",
            " 99% 361M/363M [00:18<00:00, 24.6MB/s]\n",
            "100% 363M/363M [00:18<00:00, 20.5MB/s]\n"
          ]
        }
      ]
    },
    {
      "cell_type": "code",
      "source": [
        "import zipfile\n",
        "zip_ref=zipfile.ZipFile('/content/flower-image-dataset.zip','r')\n",
        "zip_ref.extractall('/content')\n",
        "zip_ref.close()"
      ],
      "metadata": {
        "id": "T_BGGmgaqtFp"
      },
      "execution_count": null,
      "outputs": []
    },
    {
      "cell_type": "code",
      "execution_count": 2,
      "metadata": {
        "id": "cp71rT2EoOm2"
      },
      "outputs": [],
      "source": [
        "from keras.layers import Conv2D, UpSampling2D\n",
        "from keras.models import Sequential\n",
        "from keras.preprocessing.image import ImageDataGenerator\n",
        "from tensorflow.keras.utils import img_to_array, load_img\n",
        "from skimage.color import rgb2lab, lab2rgb\n",
        "from skimage.transform import resize\n",
        "from skimage.io import imsave\n",
        "import numpy as np\n",
        "import tensorflow as tf\n",
        "from tensorflow import keras\n",
        "import os\n",
        "# import cv2\n",
        "# import matplotlib.pyplot as plt\n",
        "\n"
      ]
    },
    {
      "cell_type": "code",
      "source": [
        "path = '/content/image'\n",
        "train_datagen = ImageDataGenerator(rescale=1. / 255)##ImageDataGenerator allows you to divide your data on the fly without consuming memory for doing so."
      ],
      "metadata": {
        "id": "LKOGjbq3oabA"
      },
      "execution_count": null,
      "outputs": []
    },
    {
      "cell_type": "code",
      "source": [
        "train = train_datagen.flow_from_directory(path, target_size=(256, 256),batch_size=340,class_mode=None)"
      ],
      "metadata": {
        "colab": {
          "base_uri": "https://localhost:8080/"
        },
        "id": "OY2o9IAFo7Pw",
        "outputId": "bea2930d-4284-469f-9605-6c095ad67ae1"
      },
      "execution_count": null,
      "outputs": [
        {
          "output_type": "stream",
          "name": "stdout",
          "text": [
            "Found 733 images belonging to 1 classes.\n"
          ]
        }
      ]
    },
    {
      "cell_type": "code",
      "source": [
        "train[0]"
      ],
      "metadata": {
        "id": "dwJ8-TWjrPSh"
      },
      "execution_count": null,
      "outputs": []
    },
    {
      "cell_type": "code",
      "source": [
        "X =[]\n",
        "Y =[]\n",
        "for img in train[0]:\n",
        "  try:\n",
        "      lab = rgb2lab(img)\n",
        "      X.append(lab[:,:,0])\n",
        "      Y.append(lab[:,:,1:] / 128)\n",
        "  except:\n",
        "     print('error')\n",
        "X = np.array(X)\n",
        "Y = np.array(Y)\n",
        "print(X.shape)\n",
        "print(Y.shape)\n",
        "X = X.reshape(X.shape+(1,))\n",
        "print(X.shape)\n",
        "print(Y.shape)"
      ],
      "metadata": {
        "colab": {
          "base_uri": "https://localhost:8080/"
        },
        "id": "T2oO0MRbsQu7",
        "outputId": "58d4430c-3ca3-48e5-a03e-da9e49b61ad7"
      },
      "execution_count": null,
      "outputs": [
        {
          "output_type": "stream",
          "name": "stdout",
          "text": [
            "(340, 256, 256)\n",
            "(340, 256, 256, 2)\n",
            "(340, 256, 256, 1)\n",
            "(340, 256, 256, 2)\n"
          ]
        }
      ]
    },
    {
      "cell_type": "code",
      "source": [
        "#Encoder\n",
        "encoder_input = Input(shape=(256, 256, 1,))\n",
        "encoder_output = Conv2D(64, (3,3), activation='relu', padding='same', strides=2)(encoder_input)\n",
        "encoder_output = Conv2D(128, (3,3), activation='relu', padding='same')(encoder_output)\n",
        "encoder_output = Conv2D(128, (3,3), activation='relu', padding='same', strides=2)(encoder_output)\n",
        "encoder_output = Conv2D(256, (3,3), activation='relu', padding='same')(encoder_output)\n",
        "encoder_output = Conv2D(256, (3,3), activation='relu', padding='same', strides=2)(encoder_output)\n",
        "encoder_output = Conv2D(512, (3,3), activation='relu', padding='same')(encoder_output)\n",
        "encoder_output = Conv2D(512, (3,3), activation='relu', padding='same')(encoder_output)\n",
        "encoder_output = Conv2D(256, (3,3), activation='relu', padding='same')(encoder_output)\n",
        "#Decoder\n",
        "decoder_output = Conv2D(128, (3,3), activation='relu', padding='same')(encoder_output)\n",
        "decoder_output = UpSampling2D((2, 2))(decoder_output)\n",
        "decoder_output = Conv2D(64, (3,3), activation='relu', padding='same')(decoder_output)\n",
        "decoder_output = UpSampling2D((2, 2))(decoder_output)\n",
        "decoder_output = Conv2D(32, (3,3), activation='relu', padding='same')(decoder_output)\n",
        "decoder_output = Conv2D(16, (3,3), activation='relu', padding='same')(decoder_output)\n",
        "decoder_output = Conv2D(2, (3, 3), activation='tanh', padding='same')(decoder_output)\n",
        "decoder_output = UpSampling2D((2, 2))(decoder_output)\n",
        "model = Model(inputs=encoder_input, outputs=decoder_output)"
      ],
      "metadata": {
        "id": "yffUw0USSvJb"
      },
      "execution_count": null,
      "outputs": []
    },
    {
      "cell_type": "code",
      "source": [
        "model = Sequential()\n",
        "model.add(Conv2D(64,  (3,3), activation='relu', padding='same', strides=2, input_shape=(256, 256, 1)))\n",
        "model.add(Conv2D(128, (3,3), activation='relu', padding='same'))\n",
        "model.add(Conv2D(128, (3,3), activation='relu', padding='same', strides=2))\n",
        "model.add(Conv2D(256, (3,3), activation='relu', padding='same'))\n",
        "model.add(Conv2D(256, (3,3), activation='relu', padding='same', strides=2))\n",
        "model.add(Conv2D(512, (3,3), activation='relu', padding='same'))\n",
        "model.add(Conv2D(512, (3,3), activation='relu', padding='same'))\n",
        "model.add(Conv2D(256, (3,3), activation='relu', padding='same'))\n",
        "\n",
        "#Decoder\n",
        "#Decoder\n",
        "#Note: For the last layer we use tanh instead of Relu. \n",
        "#This is because we are colorizing the image in this layer using 2 filters, A and B.\n",
        "#A and B values range between -1 and 1 so tanh (or hyperbolic tangent) is used\n",
        "#as it also has the range between -1 and 1. \n",
        "#Other functions go from 0 to 1.\n",
        "model.add(Conv2D(128, (3,3), activation='relu', padding='same'))\n",
        "model.add(UpSampling2D((2, 2)))\n",
        "model.add(Conv2D(64, (3,3), activation='relu', padding='same'))\n",
        "model.add(UpSampling2D((2, 2)))\n",
        "model.add(Conv2D(32, (3,3), activation='relu', padding='same'))\n",
        "model.add(Conv2D(16, (3,3), activation='relu', padding='same'))\n",
        "model.add(Conv2D(2, (3, 3), activation='tanh', padding='same'))\n",
        "model.add(UpSampling2D((2, 2)))\n",
        "model.compile(optimizer='adam', loss='mse' , metrics=['accuracy'])\n",
        "model.summary()"
      ],
      "metadata": {
        "colab": {
          "base_uri": "https://localhost:8080/"
        },
        "id": "1ksA0bi2ssFD",
        "outputId": "7fc7c9b7-c7b8-4f95-e937-7b74dd73fff5"
      },
      "execution_count": null,
      "outputs": [
        {
          "output_type": "stream",
          "name": "stdout",
          "text": [
            "Model: \"sequential\"\n",
            "_________________________________________________________________\n",
            " Layer (type)                Output Shape              Param #   \n",
            "=================================================================\n",
            " conv2d (Conv2D)             (None, 128, 128, 64)      640       \n",
            "                                                                 \n",
            " conv2d_1 (Conv2D)           (None, 128, 128, 128)     73856     \n",
            "                                                                 \n",
            " conv2d_2 (Conv2D)           (None, 64, 64, 128)       147584    \n",
            "                                                                 \n",
            " conv2d_3 (Conv2D)           (None, 64, 64, 256)       295168    \n",
            "                                                                 \n",
            " conv2d_4 (Conv2D)           (None, 32, 32, 256)       590080    \n",
            "                                                                 \n",
            " conv2d_5 (Conv2D)           (None, 32, 32, 512)       1180160   \n",
            "                                                                 \n",
            " conv2d_6 (Conv2D)           (None, 32, 32, 512)       2359808   \n",
            "                                                                 \n",
            " conv2d_7 (Conv2D)           (None, 32, 32, 256)       1179904   \n",
            "                                                                 \n",
            " conv2d_8 (Conv2D)           (None, 32, 32, 128)       295040    \n",
            "                                                                 \n",
            " up_sampling2d (UpSampling2D  (None, 64, 64, 128)      0         \n",
            " )                                                               \n",
            "                                                                 \n",
            " conv2d_9 (Conv2D)           (None, 64, 64, 64)        73792     \n",
            "                                                                 \n",
            " up_sampling2d_1 (UpSampling  (None, 128, 128, 64)     0         \n",
            " 2D)                                                             \n",
            "                                                                 \n",
            " conv2d_10 (Conv2D)          (None, 128, 128, 32)      18464     \n",
            "                                                                 \n",
            " conv2d_11 (Conv2D)          (None, 128, 128, 16)      4624      \n",
            "                                                                 \n",
            " conv2d_12 (Conv2D)          (None, 128, 128, 2)       290       \n",
            "                                                                 \n",
            " up_sampling2d_2 (UpSampling  (None, 256, 256, 2)      0         \n",
            " 2D)                                                             \n",
            "                                                                 \n",
            "=================================================================\n",
            "Total params: 6,219,410\n",
            "Trainable params: 6,219,410\n",
            "Non-trainable params: 0\n",
            "_________________________________________________________________\n"
          ]
        }
      ]
    },
    {
      "cell_type": "code",
      "source": [
        "model.fit(X,Y,validation_split=0.1, epochs=50, batch_size=16)"
      ],
      "metadata": {
        "colab": {
          "base_uri": "https://localhost:8080/"
        },
        "id": "lUgAj-loswG5",
        "outputId": "40124eb1-d372-4809-f67f-0d81eb14a049"
      },
      "execution_count": null,
      "outputs": [
        {
          "output_type": "stream",
          "name": "stdout",
          "text": [
            "Epoch 1/50\n",
            "20/20 [==============================] - 3s 157ms/step - loss: 0.0339 - accuracy: 0.6570 - val_loss: 0.0373 - val_accuracy: 0.6706\n",
            "Epoch 2/50\n",
            "20/20 [==============================] - 3s 155ms/step - loss: 0.0340 - accuracy: 0.6577 - val_loss: 0.0366 - val_accuracy: 0.6648\n",
            "Epoch 3/50\n",
            "20/20 [==============================] - 3s 156ms/step - loss: 0.0336 - accuracy: 0.6570 - val_loss: 0.0366 - val_accuracy: 0.6680\n",
            "Epoch 4/50\n",
            "20/20 [==============================] - 3s 156ms/step - loss: 0.0335 - accuracy: 0.6587 - val_loss: 0.0366 - val_accuracy: 0.6621\n",
            "Epoch 5/50\n",
            "20/20 [==============================] - 3s 156ms/step - loss: 0.0336 - accuracy: 0.6563 - val_loss: 0.0492 - val_accuracy: 0.5943\n",
            "Epoch 6/50\n",
            "20/20 [==============================] - 3s 159ms/step - loss: 0.0384 - accuracy: 0.6068 - val_loss: 0.0382 - val_accuracy: 0.6013\n",
            "Epoch 7/50\n",
            "20/20 [==============================] - 3s 157ms/step - loss: 0.0350 - accuracy: 0.6300 - val_loss: 0.0377 - val_accuracy: 0.6562\n",
            "Epoch 8/50\n",
            "20/20 [==============================] - 3s 157ms/step - loss: 0.0347 - accuracy: 0.6438 - val_loss: 0.0382 - val_accuracy: 0.6307\n",
            "Epoch 9/50\n",
            "20/20 [==============================] - 3s 158ms/step - loss: 0.0349 - accuracy: 0.6363 - val_loss: 0.0370 - val_accuracy: 0.6627\n",
            "Epoch 10/50\n",
            "20/20 [==============================] - 3s 157ms/step - loss: 0.0344 - accuracy: 0.6475 - val_loss: 0.0386 - val_accuracy: 0.6344\n",
            "Epoch 11/50\n",
            "20/20 [==============================] - 3s 158ms/step - loss: 0.0339 - accuracy: 0.6613 - val_loss: 0.0371 - val_accuracy: 0.6544\n",
            "Epoch 12/50\n",
            "20/20 [==============================] - 3s 158ms/step - loss: 0.0343 - accuracy: 0.6466 - val_loss: 0.0366 - val_accuracy: 0.6704\n",
            "Epoch 13/50\n",
            "20/20 [==============================] - 3s 157ms/step - loss: 0.0336 - accuracy: 0.6618 - val_loss: 0.0363 - val_accuracy: 0.6736\n",
            "Epoch 14/50\n",
            "20/20 [==============================] - 3s 160ms/step - loss: 0.0334 - accuracy: 0.6650 - val_loss: 0.0367 - val_accuracy: 0.6622\n",
            "Epoch 15/50\n",
            "20/20 [==============================] - 3s 160ms/step - loss: 0.0332 - accuracy: 0.6666 - val_loss: 0.0367 - val_accuracy: 0.6696\n",
            "Epoch 16/50\n",
            "20/20 [==============================] - 3s 159ms/step - loss: 0.0329 - accuracy: 0.6703 - val_loss: 0.0364 - val_accuracy: 0.6646\n",
            "Epoch 17/50\n",
            "20/20 [==============================] - 3s 159ms/step - loss: 0.0329 - accuracy: 0.6645 - val_loss: 0.0363 - val_accuracy: 0.6719\n",
            "Epoch 18/50\n",
            "20/20 [==============================] - 3s 159ms/step - loss: 0.0329 - accuracy: 0.6687 - val_loss: 0.0365 - val_accuracy: 0.6695\n",
            "Epoch 19/50\n",
            "20/20 [==============================] - 3s 158ms/step - loss: 0.0327 - accuracy: 0.6723 - val_loss: 0.0366 - val_accuracy: 0.6672\n",
            "Epoch 20/50\n",
            "20/20 [==============================] - 3s 159ms/step - loss: 0.0319 - accuracy: 0.6863 - val_loss: 0.0368 - val_accuracy: 0.6708\n",
            "Epoch 21/50\n",
            "20/20 [==============================] - 3s 161ms/step - loss: 0.0318 - accuracy: 0.6837 - val_loss: 0.0366 - val_accuracy: 0.6729\n",
            "Epoch 22/50\n",
            "20/20 [==============================] - 3s 162ms/step - loss: 0.0317 - accuracy: 0.6842 - val_loss: 0.0369 - val_accuracy: 0.6645\n",
            "Epoch 23/50\n",
            "20/20 [==============================] - 3s 162ms/step - loss: 0.0317 - accuracy: 0.6910 - val_loss: 0.0371 - val_accuracy: 0.6598\n",
            "Epoch 24/50\n",
            "20/20 [==============================] - 3s 159ms/step - loss: 0.0318 - accuracy: 0.6794 - val_loss: 0.0358 - val_accuracy: 0.6766\n",
            "Epoch 25/50\n",
            "20/20 [==============================] - 3s 161ms/step - loss: 0.0310 - accuracy: 0.6993 - val_loss: 0.0391 - val_accuracy: 0.6568\n",
            "Epoch 26/50\n",
            "20/20 [==============================] - 3s 160ms/step - loss: 0.0311 - accuracy: 0.6973 - val_loss: 0.0362 - val_accuracy: 0.6714\n",
            "Epoch 27/50\n",
            "20/20 [==============================] - 3s 160ms/step - loss: 0.0295 - accuracy: 0.7144 - val_loss: 0.0366 - val_accuracy: 0.6713\n",
            "Epoch 28/50\n",
            "20/20 [==============================] - 3s 161ms/step - loss: 0.0286 - accuracy: 0.7235 - val_loss: 0.0377 - val_accuracy: 0.6685\n",
            "Epoch 29/50\n",
            "20/20 [==============================] - 3s 161ms/step - loss: 0.0317 - accuracy: 0.6814 - val_loss: 0.0381 - val_accuracy: 0.6362\n",
            "Epoch 30/50\n",
            "20/20 [==============================] - 3s 162ms/step - loss: 0.0290 - accuracy: 0.7204 - val_loss: 0.0386 - val_accuracy: 0.6293\n",
            "Epoch 31/50\n",
            "20/20 [==============================] - 3s 161ms/step - loss: 0.0285 - accuracy: 0.7216 - val_loss: 0.0363 - val_accuracy: 0.6757\n",
            "Epoch 32/50\n",
            "20/20 [==============================] - 3s 161ms/step - loss: 0.0265 - accuracy: 0.7404 - val_loss: 0.0354 - val_accuracy: 0.6724\n",
            "Epoch 33/50\n",
            "20/20 [==============================] - 3s 162ms/step - loss: 0.0255 - accuracy: 0.7510 - val_loss: 0.0364 - val_accuracy: 0.6701\n",
            "Epoch 34/50\n",
            "20/20 [==============================] - 3s 162ms/step - loss: 0.0244 - accuracy: 0.7616 - val_loss: 0.0352 - val_accuracy: 0.6874\n",
            "Epoch 35/50\n",
            "20/20 [==============================] - 3s 162ms/step - loss: 0.0250 - accuracy: 0.7546 - val_loss: 0.0365 - val_accuracy: 0.6829\n",
            "Epoch 36/50\n",
            "20/20 [==============================] - 3s 162ms/step - loss: 0.0241 - accuracy: 0.7630 - val_loss: 0.0360 - val_accuracy: 0.6795\n",
            "Epoch 37/50\n",
            "20/20 [==============================] - 3s 162ms/step - loss: 0.0219 - accuracy: 0.7837 - val_loss: 0.0353 - val_accuracy: 0.6768\n",
            "Epoch 38/50\n",
            "20/20 [==============================] - 3s 163ms/step - loss: 0.0210 - accuracy: 0.7883 - val_loss: 0.0353 - val_accuracy: 0.6854\n",
            "Epoch 39/50\n",
            "20/20 [==============================] - 3s 163ms/step - loss: 0.0196 - accuracy: 0.7944 - val_loss: 0.0369 - val_accuracy: 0.6710\n",
            "Epoch 40/50\n",
            "20/20 [==============================] - 3s 164ms/step - loss: 0.0187 - accuracy: 0.8030 - val_loss: 0.0404 - val_accuracy: 0.6558\n",
            "Epoch 41/50\n",
            "20/20 [==============================] - 3s 163ms/step - loss: 0.0182 - accuracy: 0.8003 - val_loss: 0.0382 - val_accuracy: 0.6607\n",
            "Epoch 42/50\n",
            "20/20 [==============================] - 3s 164ms/step - loss: 0.0170 - accuracy: 0.8031 - val_loss: 0.0373 - val_accuracy: 0.6511\n",
            "Epoch 43/50\n",
            "20/20 [==============================] - 3s 163ms/step - loss: 0.0163 - accuracy: 0.8055 - val_loss: 0.0356 - val_accuracy: 0.6728\n",
            "Epoch 44/50\n",
            "20/20 [==============================] - 3s 163ms/step - loss: 0.0146 - accuracy: 0.8130 - val_loss: 0.0398 - val_accuracy: 0.6717\n",
            "Epoch 45/50\n",
            "20/20 [==============================] - 3s 164ms/step - loss: 0.0134 - accuracy: 0.8265 - val_loss: 0.0402 - val_accuracy: 0.6500\n",
            "Epoch 46/50\n",
            "20/20 [==============================] - 3s 164ms/step - loss: 0.0141 - accuracy: 0.8178 - val_loss: 0.0404 - val_accuracy: 0.6582\n",
            "Epoch 47/50\n",
            "20/20 [==============================] - 3s 164ms/step - loss: 0.0126 - accuracy: 0.8268 - val_loss: 0.0383 - val_accuracy: 0.6845\n",
            "Epoch 48/50\n",
            "20/20 [==============================] - 3s 164ms/step - loss: 0.0115 - accuracy: 0.8341 - val_loss: 0.0381 - val_accuracy: 0.6722\n",
            "Epoch 49/50\n",
            "20/20 [==============================] - 3s 163ms/step - loss: 0.0108 - accuracy: 0.8363 - val_loss: 0.0376 - val_accuracy: 0.6751\n",
            "Epoch 50/50\n",
            "20/20 [==============================] - 3s 163ms/step - loss: 0.0103 - accuracy: 0.8456 - val_loss: 0.0367 - val_accuracy: 0.6757\n"
          ]
        },
        {
          "output_type": "execute_result",
          "data": {
            "text/plain": [
              "<keras.callbacks.History at 0x7f16940619a0>"
            ]
          },
          "metadata": {},
          "execution_count": 12
        }
      ]
    },
    {
      "cell_type": "code",
      "source": [
        "model.save(\"Image_Colorization\")"
      ],
      "metadata": {
        "colab": {
          "base_uri": "https://localhost:8080/"
        },
        "id": "m1Rt4ABQiA8F",
        "outputId": "99619266-ca50-49e1-ec59-d489e1ceb366"
      },
      "execution_count": null,
      "outputs": [
        {
          "output_type": "stream",
          "name": "stderr",
          "text": [
            "WARNING:absl:Found untraced functions such as _jit_compiled_convolution_op, _jit_compiled_convolution_op, _jit_compiled_convolution_op, _jit_compiled_convolution_op, _jit_compiled_convolution_op while saving (showing 5 of 13). These functions will not be directly callable after loading.\n"
          ]
        }
      ]
    },
    {
      "cell_type": "code",
      "source": [
        "!zip -r /content/Image_Colorization.zip /content/Image_Colorization/"
      ],
      "metadata": {
        "colab": {
          "base_uri": "https://localhost:8080/"
        },
        "id": "pzecFZl0idcj",
        "outputId": "8df705bb-95e1-4617-f4bf-a266b7720d9b"
      },
      "execution_count": null,
      "outputs": [
        {
          "output_type": "stream",
          "name": "stdout",
          "text": [
            "  adding: content/Image_Colorization/ (stored 0%)\n",
            "  adding: content/Image_Colorization/variables/ (stored 0%)\n",
            "  adding: content/Image_Colorization/variables/variables.index (deflated 73%)\n",
            "  adding: content/Image_Colorization/variables/variables.data-00000-of-00001 (deflated 6%)\n",
            "  adding: content/Image_Colorization/assets/ (stored 0%)\n",
            "  adding: content/Image_Colorization/saved_model.pb (deflated 90%)\n",
            "  adding: content/Image_Colorization/keras_metadata.pb (deflated 95%)\n"
          ]
        }
      ]
    },
    {
      "cell_type": "code",
      "source": [
        "from google.colab import files\n",
        "files.download('/content/Image_Colorization.zip')"
      ],
      "metadata": {
        "colab": {
          "base_uri": "https://localhost:8080/",
          "height": 306
        },
        "id": "QbUo1yJGiuwE",
        "outputId": "55630915-ab53-48fc-881c-5c8c597b7191"
      },
      "execution_count": 3,
      "outputs": [
        {
          "output_type": "error",
          "ename": "FileNotFoundError",
          "evalue": "ignored",
          "traceback": [
            "\u001b[0;31m---------------------------------------------------------------------------\u001b[0m",
            "\u001b[0;31mFileNotFoundError\u001b[0m                         Traceback (most recent call last)",
            "\u001b[0;32m<ipython-input-3-f96599532c2d>\u001b[0m in \u001b[0;36m<module>\u001b[0;34m\u001b[0m\n\u001b[1;32m      1\u001b[0m \u001b[0;32mfrom\u001b[0m \u001b[0mgoogle\u001b[0m\u001b[0;34m.\u001b[0m\u001b[0mcolab\u001b[0m \u001b[0;32mimport\u001b[0m \u001b[0mfiles\u001b[0m\u001b[0;34m\u001b[0m\u001b[0;34m\u001b[0m\u001b[0m\n\u001b[0;32m----> 2\u001b[0;31m \u001b[0mfiles\u001b[0m\u001b[0;34m.\u001b[0m\u001b[0mdownload\u001b[0m\u001b[0;34m(\u001b[0m\u001b[0;34m'/content/Image_Colorization.zip'\u001b[0m\u001b[0;34m)\u001b[0m\u001b[0;34m\u001b[0m\u001b[0;34m\u001b[0m\u001b[0m\n\u001b[0m",
            "\u001b[0;32m/usr/local/lib/python3.8/dist-packages/google/colab/files.py\u001b[0m in \u001b[0;36mdownload\u001b[0;34m(filename)\u001b[0m\n\u001b[1;32m    207\u001b[0m   \u001b[0;32mif\u001b[0m \u001b[0;32mnot\u001b[0m \u001b[0m_os\u001b[0m\u001b[0;34m.\u001b[0m\u001b[0mpath\u001b[0m\u001b[0;34m.\u001b[0m\u001b[0mexists\u001b[0m\u001b[0;34m(\u001b[0m\u001b[0mfilename\u001b[0m\u001b[0;34m)\u001b[0m\u001b[0;34m:\u001b[0m\u001b[0;34m\u001b[0m\u001b[0;34m\u001b[0m\u001b[0m\n\u001b[1;32m    208\u001b[0m     \u001b[0mmsg\u001b[0m \u001b[0;34m=\u001b[0m \u001b[0;34m'Cannot find file: {}'\u001b[0m\u001b[0;34m.\u001b[0m\u001b[0mformat\u001b[0m\u001b[0;34m(\u001b[0m\u001b[0mfilename\u001b[0m\u001b[0;34m)\u001b[0m\u001b[0;34m\u001b[0m\u001b[0;34m\u001b[0m\u001b[0m\n\u001b[0;32m--> 209\u001b[0;31m     \u001b[0;32mraise\u001b[0m \u001b[0mFileNotFoundError\u001b[0m\u001b[0;34m(\u001b[0m\u001b[0mmsg\u001b[0m\u001b[0;34m)\u001b[0m  \u001b[0;31m# pylint: disable=undefined-variable\u001b[0m\u001b[0;34m\u001b[0m\u001b[0;34m\u001b[0m\u001b[0m\n\u001b[0m\u001b[1;32m    210\u001b[0m \u001b[0;34m\u001b[0m\u001b[0m\n\u001b[1;32m    211\u001b[0m   \u001b[0mcomm_manager\u001b[0m \u001b[0;34m=\u001b[0m \u001b[0m_IPython\u001b[0m\u001b[0;34m.\u001b[0m\u001b[0mget_ipython\u001b[0m\u001b[0;34m(\u001b[0m\u001b[0;34m)\u001b[0m\u001b[0;34m.\u001b[0m\u001b[0mkernel\u001b[0m\u001b[0;34m.\u001b[0m\u001b[0mcomm_manager\u001b[0m\u001b[0;34m\u001b[0m\u001b[0;34m\u001b[0m\u001b[0m\n",
            "\u001b[0;31mFileNotFoundError\u001b[0m: Cannot find file: /content/Image_Colorization.zip"
          ]
        }
      ]
    },
    {
      "cell_type": "code",
      "source": [
        "import zipfile\n",
        "zip_ref=zipfile.ZipFile('/content/Image_Colorization.zip','r')\n",
        "zip_ref.extractall('/content')\n",
        "zip_ref.close()"
      ],
      "metadata": {
        "id": "LQrJcOrkjZ8E"
      },
      "execution_count": null,
      "outputs": []
    },
    {
      "cell_type": "code",
      "source": [
        "!pip install fastapi nest-asyncio pyngrok uvicorn"
      ],
      "metadata": {
        "colab": {
          "base_uri": "https://localhost:8080/"
        },
        "id": "IFXzJs-V4VPk",
        "outputId": "5d5040bb-88d4-4d85-d3d1-702476a59e47"
      },
      "execution_count": 3,
      "outputs": [
        {
          "output_type": "stream",
          "name": "stdout",
          "text": [
            "Looking in indexes: https://pypi.org/simple, https://us-python.pkg.dev/colab-wheels/public/simple/\n",
            "Collecting fastapi\n",
            "  Downloading fastapi-0.89.1-py3-none-any.whl (55 kB)\n",
            "\u001b[2K     \u001b[90m━━━━━━━━━━━━━━━━━━━━━━━━━━━━━━━━━━━━━━━━\u001b[0m \u001b[32m55.8/55.8 KB\u001b[0m \u001b[31m2.7 MB/s\u001b[0m eta \u001b[36m0:00:00\u001b[0m\n",
            "\u001b[?25hCollecting nest-asyncio\n",
            "  Downloading nest_asyncio-1.5.6-py3-none-any.whl (5.2 kB)\n",
            "Collecting pyngrok\n",
            "  Downloading pyngrok-5.2.1.tar.gz (761 kB)\n",
            "\u001b[2K     \u001b[90m━━━━━━━━━━━━━━━━━━━━━━━━━━━━━━━━━━━━━━\u001b[0m \u001b[32m761.3/761.3 KB\u001b[0m \u001b[31m16.1 MB/s\u001b[0m eta \u001b[36m0:00:00\u001b[0m\n",
            "\u001b[?25h  Preparing metadata (setup.py) ... \u001b[?25l\u001b[?25hdone\n",
            "Collecting uvicorn\n",
            "  Downloading uvicorn-0.20.0-py3-none-any.whl (56 kB)\n",
            "\u001b[2K     \u001b[90m━━━━━━━━━━━━━━━━━━━━━━━━━━━━━━━━━━━━━━━━\u001b[0m \u001b[32m56.9/56.9 KB\u001b[0m \u001b[31m6.7 MB/s\u001b[0m eta \u001b[36m0:00:00\u001b[0m\n",
            "\u001b[?25hRequirement already satisfied: pydantic!=1.7,!=1.7.1,!=1.7.2,!=1.7.3,!=1.8,!=1.8.1,<2.0.0,>=1.6.2 in /usr/local/lib/python3.8/dist-packages (from fastapi) (1.10.4)\n",
            "Collecting starlette==0.22.0\n",
            "  Downloading starlette-0.22.0-py3-none-any.whl (64 kB)\n",
            "\u001b[2K     \u001b[90m━━━━━━━━━━━━━━━━━━━━━━━━━━━━━━━━━━━━━━━━\u001b[0m \u001b[32m64.3/64.3 KB\u001b[0m \u001b[31m6.8 MB/s\u001b[0m eta \u001b[36m0:00:00\u001b[0m\n",
            "\u001b[?25hRequirement already satisfied: typing-extensions>=3.10.0 in /usr/local/lib/python3.8/dist-packages (from starlette==0.22.0->fastapi) (4.4.0)\n",
            "Collecting anyio<5,>=3.4.0\n",
            "  Downloading anyio-3.6.2-py3-none-any.whl (80 kB)\n",
            "\u001b[2K     \u001b[90m━━━━━━━━━━━━━━━━━━━━━━━━━━━━━━━━━━━━━━━━\u001b[0m \u001b[32m80.6/80.6 KB\u001b[0m \u001b[31m9.6 MB/s\u001b[0m eta \u001b[36m0:00:00\u001b[0m\n",
            "\u001b[?25hRequirement already satisfied: PyYAML in /usr/local/lib/python3.8/dist-packages (from pyngrok) (6.0)\n",
            "Collecting h11>=0.8\n",
            "  Downloading h11-0.14.0-py3-none-any.whl (58 kB)\n",
            "\u001b[2K     \u001b[90m━━━━━━━━━━━━━━━━━━━━━━━━━━━━━━━━━━━━━━━━\u001b[0m \u001b[32m58.3/58.3 KB\u001b[0m \u001b[31m6.2 MB/s\u001b[0m eta \u001b[36m0:00:00\u001b[0m\n",
            "\u001b[?25hRequirement already satisfied: click>=7.0 in /usr/local/lib/python3.8/dist-packages (from uvicorn) (7.1.2)\n",
            "Requirement already satisfied: idna>=2.8 in /usr/local/lib/python3.8/dist-packages (from anyio<5,>=3.4.0->starlette==0.22.0->fastapi) (2.10)\n",
            "Collecting sniffio>=1.1\n",
            "  Downloading sniffio-1.3.0-py3-none-any.whl (10 kB)\n",
            "Building wheels for collected packages: pyngrok\n",
            "  Building wheel for pyngrok (setup.py) ... \u001b[?25l\u001b[?25hdone\n",
            "  Created wheel for pyngrok: filename=pyngrok-5.2.1-py3-none-any.whl size=19792 sha256=b3fac522325bc83567b961a5e6763350aec1fd5b0d0b9ff76e9ea58435de2d8d\n",
            "  Stored in directory: /root/.cache/pip/wheels/5d/f2/70/526da675d32f17577ec47ac4c663084efe39d47c826b6c3bb1\n",
            "Successfully built pyngrok\n",
            "Installing collected packages: sniffio, pyngrok, nest-asyncio, h11, uvicorn, anyio, starlette, fastapi\n",
            "Successfully installed anyio-3.6.2 fastapi-0.89.1 h11-0.14.0 nest-asyncio-1.5.6 pyngrok-5.2.1 sniffio-1.3.0 starlette-0.22.0 uvicorn-0.20.0\n"
          ]
        }
      ]
    },
    {
      "cell_type": "code",
      "source": [
        "model_path='/content/drive/MyDrive/Image_Colorization/content/Image_Colorization'\n",
        "model = keras.models.load_model(model_path)"
      ],
      "metadata": {
        "id": "kcCuaq4qjhlV"
      },
      "execution_count": 6,
      "outputs": []
    },
    {
      "cell_type": "code",
      "source": [
        "from fastapi import FastAPI\n",
        "import nest_asyncio\n",
        "from pyngrok import ngrok\n",
        "import uvicorn\n",
        "from starlette.middleware import Middleware\n",
        "from starlette.middleware.cors import CORSMiddleware\n",
        "from pydantic import BaseModel\n",
        "\n",
        "import os\n",
        "\n",
        "import io, base64\n",
        "from PIL import Image\n",
        "from starlette.responses import FileResponse\n",
        "\n",
        "app = FastAPI()\n",
        "\n",
        "origins = [\"*\"]\n",
        "\n",
        "app.add_middleware(\n",
        "    CORSMiddleware,\n",
        "    allow_origins=origins,\n",
        "    allow_credentials=True,\n",
        "    allow_methods=[\"*\"],\n",
        "    allow_headers=[\"*\"],\n",
        ")\n",
        "\n",
        "class ImgData(BaseModel):\n",
        "    image: str\n",
        "\n",
        "@app.get('/')\n",
        "async def house():\n",
        "  return \"Hello World !!\"\n",
        "\n",
        "@app.post('/')\n",
        "async def img(data: ImgData):\n",
        "  img = Image.open(io.BytesIO(base64.decodebytes(bytes(data.image, \"utf-8\"))))\n",
        "  img.save('my-image.jpeg')\n",
        "  \n",
        "  test_path = '/content/my-image.jpeg'\n",
        "\n",
        "  color_me = []\n",
        "  img = img_to_array(load_img(test_path))\n",
        "  img = resize(img ,(256,256))\n",
        "  color_me.append(img)\n",
        "  color_me = np.array(color_me, dtype=float)\n",
        "\n",
        "  color_me = rgb2lab(1.0/255 * color_me)[:,:,:,0]\n",
        "\n",
        "  color_me = color_me.reshape(color_me.shape+(1,))\n",
        "\n",
        "  output = model.predict(color_me)\n",
        "  output = output * 128\n",
        "\n",
        "  result = np.zeros((256, 256, 3))\n",
        "  result[:,:,0] = color_me[0][:,:,0]\n",
        "  result[:,:,1:] = output[0]\n",
        "  colorOut = lab2rgb(result)\n",
        "  imsave(\"result.png\", colorOut)\n",
        "\n",
        "  \n",
        "\n",
        "  with open(\"/content/result.png\", 'rb') as f:\n",
        "    base64image = base64.b64encode(f.read())\n",
        "\n",
        "  return base64image\n",
        "\n",
        "ngrok_tunnel = ngrok.connect(8000)\n",
        "print('Public URL:', ngrok_tunnel.public_url)\n",
        "nest_asyncio.apply()\n",
        "uvicorn.run(app, port=8000)"
      ],
      "metadata": {
        "colab": {
          "base_uri": "https://localhost:8080/"
        },
        "id": "cyKiz6Ff4Nux",
        "outputId": "4885746b-4322-48ce-8887-40929e49d9a5"
      },
      "execution_count": null,
      "outputs": [
        {
          "output_type": "stream",
          "name": "stdout",
          "text": [
            "Public URL: http://113e-34-171-191-42.ngrok.io\n"
          ]
        },
        {
          "output_type": "stream",
          "name": "stderr",
          "text": [
            "INFO:     Started server process [110]\n",
            "INFO:     Waiting for application startup.\n",
            "INFO:     Application startup complete.\n",
            "INFO:     Uvicorn running on http://127.0.0.1:8000 (Press CTRL+C to quit)\n"
          ]
        },
        {
          "output_type": "stream",
          "name": "stdout",
          "text": [
            "INFO:     122.254.88.29:0 - \"OPTIONS / HTTP/1.1\" 200 OK\n",
            "1/1 [==============================] - 0s 348ms/step\n"
          ]
        },
        {
          "output_type": "stream",
          "name": "stderr",
          "text": [
            "WARNING:imageio:Lossy conversion from float64 to uint8. Range [0, 1]. Convert image to uint8 prior to saving to suppress this warning.\n"
          ]
        },
        {
          "output_type": "stream",
          "name": "stdout",
          "text": [
            "INFO:     122.254.88.29:0 - \"POST / HTTP/1.1\" 200 OK\n",
            "1/1 [==============================] - 0s 347ms/step\n"
          ]
        },
        {
          "output_type": "stream",
          "name": "stderr",
          "text": [
            "/usr/local/lib/python3.8/dist-packages/skimage/color/colorconv.py:1109: UserWarning: Color data out of range: Z < 0 in 8 pixels\n",
            "  return xyz2rgb(lab2xyz(lab, illuminant, observer))\n",
            "WARNING:imageio:Lossy conversion from float64 to uint8. Range [0, 1]. Convert image to uint8 prior to saving to suppress this warning.\n"
          ]
        },
        {
          "output_type": "stream",
          "name": "stdout",
          "text": [
            "INFO:     122.254.88.29:0 - \"POST / HTTP/1.1\" 200 OK\n",
            "1/1 [==============================] - 0s 334ms/step\n"
          ]
        },
        {
          "output_type": "stream",
          "name": "stderr",
          "text": [
            "WARNING:imageio:Lossy conversion from float64 to uint8. Range [0, 1]. Convert image to uint8 prior to saving to suppress this warning.\n"
          ]
        },
        {
          "output_type": "stream",
          "name": "stdout",
          "text": [
            "INFO:     122.254.88.29:0 - \"POST / HTTP/1.1\" 200 OK\n",
            "1/1 [==============================] - 0s 345ms/step\n"
          ]
        },
        {
          "output_type": "stream",
          "name": "stderr",
          "text": [
            "WARNING:imageio:Lossy conversion from float64 to uint8. Range [0, 1]. Convert image to uint8 prior to saving to suppress this warning.\n"
          ]
        },
        {
          "output_type": "stream",
          "name": "stdout",
          "text": [
            "INFO:     122.254.88.29:0 - \"POST / HTTP/1.1\" 200 OK\n",
            "1/1 [==============================] - 0s 349ms/step\n"
          ]
        },
        {
          "output_type": "stream",
          "name": "stderr",
          "text": [
            "WARNING:imageio:Lossy conversion from float64 to uint8. Range [0, 1]. Convert image to uint8 prior to saving to suppress this warning.\n"
          ]
        },
        {
          "output_type": "stream",
          "name": "stdout",
          "text": [
            "INFO:     122.254.88.29:0 - \"POST / HTTP/1.1\" 200 OK\n",
            "INFO:     122.254.88.29:0 - \"OPTIONS / HTTP/1.1\" 200 OK\n",
            "1/1 [==============================] - 0s 350ms/step\n"
          ]
        },
        {
          "output_type": "stream",
          "name": "stderr",
          "text": [
            "WARNING:imageio:Lossy conversion from float64 to uint8. Range [0, 1]. Convert image to uint8 prior to saving to suppress this warning.\n"
          ]
        },
        {
          "output_type": "stream",
          "name": "stdout",
          "text": [
            "INFO:     122.254.88.29:0 - \"POST / HTTP/1.1\" 200 OK\n",
            "1/1 [==============================] - 0s 341ms/step\n"
          ]
        },
        {
          "output_type": "stream",
          "name": "stderr",
          "text": [
            "WARNING:imageio:Lossy conversion from float64 to uint8. Range [0, 1]. Convert image to uint8 prior to saving to suppress this warning.\n"
          ]
        },
        {
          "output_type": "stream",
          "name": "stdout",
          "text": [
            "INFO:     122.254.88.29:0 - \"POST / HTTP/1.1\" 200 OK\n",
            "1/1 [==============================] - 0s 354ms/step\n"
          ]
        },
        {
          "output_type": "stream",
          "name": "stderr",
          "text": [
            "WARNING:imageio:Lossy conversion from float64 to uint8. Range [0, 1]. Convert image to uint8 prior to saving to suppress this warning.\n"
          ]
        },
        {
          "output_type": "stream",
          "name": "stdout",
          "text": [
            "INFO:     122.254.88.29:0 - \"POST / HTTP/1.1\" 200 OK\n",
            "1/1 [==============================] - 0s 349ms/step\n"
          ]
        },
        {
          "output_type": "stream",
          "name": "stderr",
          "text": [
            "WARNING:imageio:Lossy conversion from float64 to uint8. Range [0, 1]. Convert image to uint8 prior to saving to suppress this warning.\n"
          ]
        },
        {
          "output_type": "stream",
          "name": "stdout",
          "text": [
            "INFO:     122.254.88.29:0 - \"POST / HTTP/1.1\" 200 OK\n",
            "1/1 [==============================] - 0s 339ms/step\n"
          ]
        },
        {
          "output_type": "stream",
          "name": "stderr",
          "text": [
            "WARNING:imageio:Lossy conversion from float64 to uint8. Range [0, 1]. Convert image to uint8 prior to saving to suppress this warning.\n"
          ]
        },
        {
          "output_type": "stream",
          "name": "stdout",
          "text": [
            "INFO:     122.254.88.29:0 - \"POST / HTTP/1.1\" 200 OK\n",
            "1/1 [==============================] - 0s 356ms/step\n"
          ]
        },
        {
          "output_type": "stream",
          "name": "stderr",
          "text": [
            "WARNING:imageio:Lossy conversion from float64 to uint8. Range [0, 1]. Convert image to uint8 prior to saving to suppress this warning.\n"
          ]
        },
        {
          "output_type": "stream",
          "name": "stdout",
          "text": [
            "INFO:     122.254.88.29:0 - \"POST / HTTP/1.1\" 200 OK\n",
            "1/1 [==============================] - 0s 348ms/step\n"
          ]
        },
        {
          "output_type": "stream",
          "name": "stderr",
          "text": [
            "WARNING:imageio:Lossy conversion from float64 to uint8. Range [0, 1]. Convert image to uint8 prior to saving to suppress this warning.\n"
          ]
        },
        {
          "output_type": "stream",
          "name": "stdout",
          "text": [
            "INFO:     122.254.88.29:0 - \"POST / HTTP/1.1\" 200 OK\n",
            "1/1 [==============================] - 0s 355ms/step\n"
          ]
        },
        {
          "output_type": "stream",
          "name": "stderr",
          "text": [
            "WARNING:imageio:Lossy conversion from float64 to uint8. Range [0, 1]. Convert image to uint8 prior to saving to suppress this warning.\n"
          ]
        },
        {
          "output_type": "stream",
          "name": "stdout",
          "text": [
            "INFO:     122.254.88.29:0 - \"POST / HTTP/1.1\" 200 OK\n",
            "1/1 [==============================] - 0s 349ms/step\n"
          ]
        },
        {
          "output_type": "stream",
          "name": "stderr",
          "text": [
            "WARNING:imageio:Lossy conversion from float64 to uint8. Range [0, 1]. Convert image to uint8 prior to saving to suppress this warning.\n"
          ]
        },
        {
          "output_type": "stream",
          "name": "stdout",
          "text": [
            "INFO:     122.254.88.29:0 - \"POST / HTTP/1.1\" 200 OK\n",
            "INFO:     122.254.88.29:0 - \"OPTIONS / HTTP/1.1\" 200 OK\n",
            "1/1 [==============================] - 0s 367ms/step\n"
          ]
        },
        {
          "output_type": "stream",
          "name": "stderr",
          "text": [
            "WARNING:imageio:Lossy conversion from float64 to uint8. Range [0, 1]. Convert image to uint8 prior to saving to suppress this warning.\n"
          ]
        },
        {
          "output_type": "stream",
          "name": "stdout",
          "text": [
            "INFO:     122.254.88.29:0 - \"POST / HTTP/1.1\" 200 OK\n"
          ]
        }
      ]
    },
    {
      "cell_type": "code",
      "source": [
        "import os\n",
        "test_path = '/content/flower.jpeg'\n",
        "\n"
      ],
      "metadata": {
        "id": "rNXCCgFsu0Gi"
      },
      "execution_count": null,
      "outputs": []
    },
    {
      "cell_type": "code",
      "source": [
        "#os.listdir(test_path)##to see all the files are listed or not"
      ],
      "metadata": {
        "id": "CrinZR0Vom8b"
      },
      "execution_count": null,
      "outputs": []
    },
    {
      "cell_type": "code",
      "source": [
        "test = os.listdir(test_path)"
      ],
      "metadata": {
        "id": "u5kiaEC1pHbL"
      },
      "execution_count": null,
      "outputs": []
    },
    {
      "cell_type": "code",
      "source": [
        "color_me = []\n",
        "img = img_to_array(load_img(test_path))\n",
        "img = resize(img ,(256,256))\n",
        "color_me.append(img)\n",
        "color_me = np.array(color_me, dtype=float)\n",
        "\n"
      ],
      "metadata": {
        "id": "E-Ni5BOIobrd"
      },
      "execution_count": null,
      "outputs": []
    },
    {
      "cell_type": "code",
      "source": [
        "color_me.dtype"
      ],
      "metadata": {
        "colab": {
          "base_uri": "https://localhost:8080/"
        },
        "id": "sSv9uFQk3Zo8",
        "outputId": "357d4a23-4e3e-494d-d219-5ecac8b76943"
      },
      "execution_count": null,
      "outputs": [
        {
          "output_type": "execute_result",
          "data": {
            "text/plain": [
              "dtype('float64')"
            ]
          },
          "metadata": {},
          "execution_count": 27
        }
      ]
    },
    {
      "cell_type": "code",
      "source": [
        "color_me = rgb2lab(1.0/255 * color_me)[:,:,:,0]##this gives the L value of the input image\n",
        "## you can write the code as 1). color_me = rgb2lab(1.0/255*color_me)\n",
        "#2).                             color_me = color_me[:,:,:,0]\n"
      ],
      "metadata": {
        "id": "oJ4lTjuH3WVj"
      },
      "execution_count": null,
      "outputs": []
    },
    {
      "cell_type": "code",
      "source": [
        "color_me.shape ## note the size"
      ],
      "metadata": {
        "colab": {
          "base_uri": "https://localhost:8080/"
        },
        "id": "_xgxgGXeqZij",
        "outputId": "e091290b-9fed-4650-9d88-113c98718237"
      },
      "execution_count": null,
      "outputs": [
        {
          "output_type": "execute_result",
          "data": {
            "text/plain": [
              "(1, 256, 256)"
            ]
          },
          "metadata": {},
          "execution_count": 29
        }
      ]
    },
    {
      "cell_type": "code",
      "source": [
        "color_me = color_me.reshape(color_me.shape+(1,))\n"
      ],
      "metadata": {
        "id": "fNcgpUJYprZr"
      },
      "execution_count": null,
      "outputs": []
    },
    {
      "cell_type": "code",
      "source": [
        "color_me.shape ## new reshaped shape "
      ],
      "metadata": {
        "colab": {
          "base_uri": "https://localhost:8080/"
        },
        "id": "hzRDOqxCpsr7",
        "outputId": "672843ee-2de5-4b8b-ef4d-11a03e9c5812"
      },
      "execution_count": null,
      "outputs": [
        {
          "output_type": "execute_result",
          "data": {
            "text/plain": [
              "(1, 256, 256, 1)"
            ]
          },
          "metadata": {},
          "execution_count": 31
        }
      ]
    },
    {
      "cell_type": "code",
      "source": [
        "output = model.predict(color_me)\n",
        "output = output * 128 # the output is in range of 0 to 1 so we change it into original range of ab value which is in the range of 128 "
      ],
      "metadata": {
        "colab": {
          "base_uri": "https://localhost:8080/"
        },
        "id": "lzsU9fN02jh6",
        "outputId": "5c80c479-7f15-4434-b911-e2b82af32e0a"
      },
      "execution_count": null,
      "outputs": [
        {
          "output_type": "stream",
          "name": "stdout",
          "text": [
            "1/1 [==============================] - 0s 18ms/step\n"
          ]
        }
      ]
    },
    {
      "cell_type": "code",
      "source": [
        "# for i in range(len(output)):\n",
        "result = np.zeros((256, 256, 3))\n",
        "result[:,:,0] = color_me[0][:,:,0]\n",
        "result[:,:,1:] = output[0]\n",
        "imsave(\"result.png\", lab2rgb(result))"
      ],
      "metadata": {
        "colab": {
          "base_uri": "https://localhost:8080/"
        },
        "id": "UyLBRm-X4TPl",
        "outputId": "b3e0e00c-4a4c-4b62-c1c1-a5985323d74a"
      },
      "execution_count": null,
      "outputs": [
        {
          "output_type": "stream",
          "name": "stderr",
          "text": [
            "WARNING:imageio:Lossy conversion from float64 to uint8. Range [0, 1]. Convert image to uint8 prior to saving to suppress this warning.\n"
          ]
        }
      ]
    }
  ]
}